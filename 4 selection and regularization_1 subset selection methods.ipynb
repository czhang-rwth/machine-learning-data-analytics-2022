{
 "cells": [
  {
   "cell_type": "markdown",
   "id": "cd24d13e",
   "metadata": {},
   "source": [
    "### exercise 4 selection and regularization \n",
    "### task 1 subset selection methods "
   ]
  },
  {
   "cell_type": "code",
   "execution_count": 106,
   "id": "8ab22060",
   "metadata": {},
   "outputs": [],
   "source": [
    "import numpy as np\n",
    "import pandas as pd\n",
    "import statsmodels.api as sm\n",
    "\n",
    "from tqdm import tqdm # a python package that provides progress bars for iterables\n",
    "from operator import itemgetter\n",
    "from itertools import combinations\n",
    "from sklearn.model_selection import KFold\n",
    "from matplotlib import pyplot as plt\n",
    "\n",
    "%matplotlib inline\n",
    "plt.style.use('ggplot') # emulate R's pretty plotting\n",
    "\n",
    "# print numpy arrays with precision 4\n",
    "np.set_printoptions(precision=4)"
   ]
  },
  {
   "cell_type": "code",
   "execution_count": 107,
   "id": "6587ddf1",
   "metadata": {},
   "outputs": [
    {
     "data": {
      "text/html": [
       "<div>\n",
       "<style scoped>\n",
       "    .dataframe tbody tr th:only-of-type {\n",
       "        vertical-align: middle;\n",
       "    }\n",
       "\n",
       "    .dataframe tbody tr th {\n",
       "        vertical-align: top;\n",
       "    }\n",
       "\n",
       "    .dataframe thead th {\n",
       "        text-align: right;\n",
       "    }\n",
       "</style>\n",
       "<table border=\"1\" class=\"dataframe\">\n",
       "  <thead>\n",
       "    <tr style=\"text-align: right;\">\n",
       "      <th></th>\n",
       "      <th>AtBat</th>\n",
       "      <th>Hits</th>\n",
       "      <th>HmRun</th>\n",
       "      <th>Runs</th>\n",
       "      <th>RBI</th>\n",
       "      <th>Walks</th>\n",
       "      <th>Years</th>\n",
       "      <th>CAtBat</th>\n",
       "      <th>CHits</th>\n",
       "      <th>CHmRun</th>\n",
       "      <th>CRuns</th>\n",
       "      <th>CRBI</th>\n",
       "      <th>CWalks</th>\n",
       "      <th>League</th>\n",
       "      <th>Division</th>\n",
       "      <th>PutOuts</th>\n",
       "      <th>Assists</th>\n",
       "      <th>Errors</th>\n",
       "      <th>Salary</th>\n",
       "      <th>NewLeague</th>\n",
       "    </tr>\n",
       "  </thead>\n",
       "  <tbody>\n",
       "    <tr>\n",
       "      <th>-Alan Ashby</th>\n",
       "      <td>315</td>\n",
       "      <td>81</td>\n",
       "      <td>7</td>\n",
       "      <td>24</td>\n",
       "      <td>38</td>\n",
       "      <td>39</td>\n",
       "      <td>14</td>\n",
       "      <td>3449</td>\n",
       "      <td>835</td>\n",
       "      <td>69</td>\n",
       "      <td>321</td>\n",
       "      <td>414</td>\n",
       "      <td>375</td>\n",
       "      <td>N</td>\n",
       "      <td>W</td>\n",
       "      <td>632</td>\n",
       "      <td>43</td>\n",
       "      <td>10</td>\n",
       "      <td>475.0</td>\n",
       "      <td>N</td>\n",
       "    </tr>\n",
       "    <tr>\n",
       "      <th>-Alvin Davis</th>\n",
       "      <td>479</td>\n",
       "      <td>130</td>\n",
       "      <td>18</td>\n",
       "      <td>66</td>\n",
       "      <td>72</td>\n",
       "      <td>76</td>\n",
       "      <td>3</td>\n",
       "      <td>1624</td>\n",
       "      <td>457</td>\n",
       "      <td>63</td>\n",
       "      <td>224</td>\n",
       "      <td>266</td>\n",
       "      <td>263</td>\n",
       "      <td>A</td>\n",
       "      <td>W</td>\n",
       "      <td>880</td>\n",
       "      <td>82</td>\n",
       "      <td>14</td>\n",
       "      <td>480.0</td>\n",
       "      <td>A</td>\n",
       "    </tr>\n",
       "    <tr>\n",
       "      <th>-Andre Dawson</th>\n",
       "      <td>496</td>\n",
       "      <td>141</td>\n",
       "      <td>20</td>\n",
       "      <td>65</td>\n",
       "      <td>78</td>\n",
       "      <td>37</td>\n",
       "      <td>11</td>\n",
       "      <td>5628</td>\n",
       "      <td>1575</td>\n",
       "      <td>225</td>\n",
       "      <td>828</td>\n",
       "      <td>838</td>\n",
       "      <td>354</td>\n",
       "      <td>N</td>\n",
       "      <td>E</td>\n",
       "      <td>200</td>\n",
       "      <td>11</td>\n",
       "      <td>3</td>\n",
       "      <td>500.0</td>\n",
       "      <td>N</td>\n",
       "    </tr>\n",
       "    <tr>\n",
       "      <th>-Andres Galarraga</th>\n",
       "      <td>321</td>\n",
       "      <td>87</td>\n",
       "      <td>10</td>\n",
       "      <td>39</td>\n",
       "      <td>42</td>\n",
       "      <td>30</td>\n",
       "      <td>2</td>\n",
       "      <td>396</td>\n",
       "      <td>101</td>\n",
       "      <td>12</td>\n",
       "      <td>48</td>\n",
       "      <td>46</td>\n",
       "      <td>33</td>\n",
       "      <td>N</td>\n",
       "      <td>E</td>\n",
       "      <td>805</td>\n",
       "      <td>40</td>\n",
       "      <td>4</td>\n",
       "      <td>91.5</td>\n",
       "      <td>N</td>\n",
       "    </tr>\n",
       "    <tr>\n",
       "      <th>-Alfredo Griffin</th>\n",
       "      <td>594</td>\n",
       "      <td>169</td>\n",
       "      <td>4</td>\n",
       "      <td>74</td>\n",
       "      <td>51</td>\n",
       "      <td>35</td>\n",
       "      <td>11</td>\n",
       "      <td>4408</td>\n",
       "      <td>1133</td>\n",
       "      <td>19</td>\n",
       "      <td>501</td>\n",
       "      <td>336</td>\n",
       "      <td>194</td>\n",
       "      <td>A</td>\n",
       "      <td>W</td>\n",
       "      <td>282</td>\n",
       "      <td>421</td>\n",
       "      <td>25</td>\n",
       "      <td>750.0</td>\n",
       "      <td>A</td>\n",
       "    </tr>\n",
       "  </tbody>\n",
       "</table>\n",
       "</div>"
      ],
      "text/plain": [
       "                   AtBat  Hits  HmRun  Runs  RBI  Walks  Years  CAtBat  CHits  \\\n",
       "-Alan Ashby          315    81      7    24   38     39     14    3449    835   \n",
       "-Alvin Davis         479   130     18    66   72     76      3    1624    457   \n",
       "-Andre Dawson        496   141     20    65   78     37     11    5628   1575   \n",
       "-Andres Galarraga    321    87     10    39   42     30      2     396    101   \n",
       "-Alfredo Griffin     594   169      4    74   51     35     11    4408   1133   \n",
       "\n",
       "                   CHmRun  CRuns  CRBI  CWalks League Division  PutOuts  \\\n",
       "-Alan Ashby            69    321   414     375      N        W      632   \n",
       "-Alvin Davis           63    224   266     263      A        W      880   \n",
       "-Andre Dawson         225    828   838     354      N        E      200   \n",
       "-Andres Galarraga      12     48    46      33      N        E      805   \n",
       "-Alfredo Griffin       19    501   336     194      A        W      282   \n",
       "\n",
       "                   Assists  Errors  Salary NewLeague  \n",
       "-Alan Ashby             43      10   475.0         N  \n",
       "-Alvin Davis            82      14   480.0         A  \n",
       "-Andre Dawson           11       3   500.0         N  \n",
       "-Andres Galarraga       40       4    91.5         N  \n",
       "-Alfredo Griffin       421      25   750.0         A  "
      ]
     },
     "execution_count": 107,
     "metadata": {},
     "output_type": "execute_result"
    }
   ],
   "source": [
    "hitters = pd.read_csv(r'C:\\Users\\Chijun Zhang\\Documents\\jupyter\\machine learning exercise\\datasets\\Hitters.csv',index_col=0)\n",
    "hitters = hitters.dropna()\n",
    "hitters.head()"
   ]
  },
  {
   "cell_type": "code",
   "execution_count": 108,
   "id": "aa01ce31",
   "metadata": {},
   "outputs": [
    {
     "data": {
      "text/html": [
       "<div>\n",
       "<style scoped>\n",
       "    .dataframe tbody tr th:only-of-type {\n",
       "        vertical-align: middle;\n",
       "    }\n",
       "\n",
       "    .dataframe tbody tr th {\n",
       "        vertical-align: top;\n",
       "    }\n",
       "\n",
       "    .dataframe thead th {\n",
       "        text-align: right;\n",
       "    }\n",
       "</style>\n",
       "<table border=\"1\" class=\"dataframe\">\n",
       "  <thead>\n",
       "    <tr style=\"text-align: right;\">\n",
       "      <th></th>\n",
       "      <th>League_A</th>\n",
       "      <th>League_N</th>\n",
       "      <th>Division_E</th>\n",
       "      <th>Division_W</th>\n",
       "      <th>NewLeague_A</th>\n",
       "      <th>NewLeague_N</th>\n",
       "    </tr>\n",
       "  </thead>\n",
       "  <tbody>\n",
       "    <tr>\n",
       "      <th>-Alan Ashby</th>\n",
       "      <td>0</td>\n",
       "      <td>1</td>\n",
       "      <td>0</td>\n",
       "      <td>1</td>\n",
       "      <td>0</td>\n",
       "      <td>1</td>\n",
       "    </tr>\n",
       "    <tr>\n",
       "      <th>-Alvin Davis</th>\n",
       "      <td>1</td>\n",
       "      <td>0</td>\n",
       "      <td>0</td>\n",
       "      <td>1</td>\n",
       "      <td>1</td>\n",
       "      <td>0</td>\n",
       "    </tr>\n",
       "    <tr>\n",
       "      <th>-Andre Dawson</th>\n",
       "      <td>0</td>\n",
       "      <td>1</td>\n",
       "      <td>1</td>\n",
       "      <td>0</td>\n",
       "      <td>0</td>\n",
       "      <td>1</td>\n",
       "    </tr>\n",
       "    <tr>\n",
       "      <th>-Andres Galarraga</th>\n",
       "      <td>0</td>\n",
       "      <td>1</td>\n",
       "      <td>1</td>\n",
       "      <td>0</td>\n",
       "      <td>0</td>\n",
       "      <td>1</td>\n",
       "    </tr>\n",
       "    <tr>\n",
       "      <th>-Alfredo Griffin</th>\n",
       "      <td>1</td>\n",
       "      <td>0</td>\n",
       "      <td>0</td>\n",
       "      <td>1</td>\n",
       "      <td>1</td>\n",
       "      <td>0</td>\n",
       "    </tr>\n",
       "  </tbody>\n",
       "</table>\n",
       "</div>"
      ],
      "text/plain": [
       "                   League_A  League_N  Division_E  Division_W  NewLeague_A  \\\n",
       "-Alan Ashby               0         1           0           1            0   \n",
       "-Alvin Davis              1         0           0           1            1   \n",
       "-Andre Dawson             0         1           1           0            0   \n",
       "-Andres Galarraga         0         1           1           0            0   \n",
       "-Alfredo Griffin          1         0           0           1            1   \n",
       "\n",
       "                   NewLeague_N  \n",
       "-Alan Ashby                  1  \n",
       "-Alvin Davis                 0  \n",
       "-Andre Dawson                1  \n",
       "-Andres Galarraga            1  \n",
       "-Alfredo Griffin             0  "
      ]
     },
     "execution_count": 108,
     "metadata": {},
     "output_type": "execute_result"
    }
   ],
   "source": [
    "dummies = pd.get_dummies(hitters[['League', 'Division', 'NewLeague']]) \n",
    "dummies.head()"
   ]
  },
  {
   "cell_type": "code",
   "execution_count": 109,
   "id": "31bad3fc",
   "metadata": {},
   "outputs": [
    {
     "data": {
      "text/html": [
       "<div>\n",
       "<style scoped>\n",
       "    .dataframe tbody tr th:only-of-type {\n",
       "        vertical-align: middle;\n",
       "    }\n",
       "\n",
       "    .dataframe tbody tr th {\n",
       "        vertical-align: top;\n",
       "    }\n",
       "\n",
       "    .dataframe thead th {\n",
       "        text-align: right;\n",
       "    }\n",
       "</style>\n",
       "<table border=\"1\" class=\"dataframe\">\n",
       "  <thead>\n",
       "    <tr style=\"text-align: right;\">\n",
       "      <th></th>\n",
       "      <th>AtBat</th>\n",
       "      <th>Hits</th>\n",
       "      <th>HmRun</th>\n",
       "      <th>Runs</th>\n",
       "      <th>RBI</th>\n",
       "      <th>Walks</th>\n",
       "      <th>Years</th>\n",
       "      <th>CAtBat</th>\n",
       "      <th>CHits</th>\n",
       "      <th>CHmRun</th>\n",
       "      <th>CRuns</th>\n",
       "      <th>CRBI</th>\n",
       "      <th>CWalks</th>\n",
       "      <th>PutOuts</th>\n",
       "      <th>Assists</th>\n",
       "      <th>Errors</th>\n",
       "      <th>Salary</th>\n",
       "      <th>League_N</th>\n",
       "      <th>Division_W</th>\n",
       "      <th>NewLeague_N</th>\n",
       "    </tr>\n",
       "  </thead>\n",
       "  <tbody>\n",
       "    <tr>\n",
       "      <th>-Alan Ashby</th>\n",
       "      <td>315</td>\n",
       "      <td>81</td>\n",
       "      <td>7</td>\n",
       "      <td>24</td>\n",
       "      <td>38</td>\n",
       "      <td>39</td>\n",
       "      <td>14</td>\n",
       "      <td>3449</td>\n",
       "      <td>835</td>\n",
       "      <td>69</td>\n",
       "      <td>321</td>\n",
       "      <td>414</td>\n",
       "      <td>375</td>\n",
       "      <td>632</td>\n",
       "      <td>43</td>\n",
       "      <td>10</td>\n",
       "      <td>475.0</td>\n",
       "      <td>1</td>\n",
       "      <td>1</td>\n",
       "      <td>1</td>\n",
       "    </tr>\n",
       "    <tr>\n",
       "      <th>-Alvin Davis</th>\n",
       "      <td>479</td>\n",
       "      <td>130</td>\n",
       "      <td>18</td>\n",
       "      <td>66</td>\n",
       "      <td>72</td>\n",
       "      <td>76</td>\n",
       "      <td>3</td>\n",
       "      <td>1624</td>\n",
       "      <td>457</td>\n",
       "      <td>63</td>\n",
       "      <td>224</td>\n",
       "      <td>266</td>\n",
       "      <td>263</td>\n",
       "      <td>880</td>\n",
       "      <td>82</td>\n",
       "      <td>14</td>\n",
       "      <td>480.0</td>\n",
       "      <td>0</td>\n",
       "      <td>1</td>\n",
       "      <td>0</td>\n",
       "    </tr>\n",
       "    <tr>\n",
       "      <th>-Andre Dawson</th>\n",
       "      <td>496</td>\n",
       "      <td>141</td>\n",
       "      <td>20</td>\n",
       "      <td>65</td>\n",
       "      <td>78</td>\n",
       "      <td>37</td>\n",
       "      <td>11</td>\n",
       "      <td>5628</td>\n",
       "      <td>1575</td>\n",
       "      <td>225</td>\n",
       "      <td>828</td>\n",
       "      <td>838</td>\n",
       "      <td>354</td>\n",
       "      <td>200</td>\n",
       "      <td>11</td>\n",
       "      <td>3</td>\n",
       "      <td>500.0</td>\n",
       "      <td>1</td>\n",
       "      <td>0</td>\n",
       "      <td>1</td>\n",
       "    </tr>\n",
       "    <tr>\n",
       "      <th>-Andres Galarraga</th>\n",
       "      <td>321</td>\n",
       "      <td>87</td>\n",
       "      <td>10</td>\n",
       "      <td>39</td>\n",
       "      <td>42</td>\n",
       "      <td>30</td>\n",
       "      <td>2</td>\n",
       "      <td>396</td>\n",
       "      <td>101</td>\n",
       "      <td>12</td>\n",
       "      <td>48</td>\n",
       "      <td>46</td>\n",
       "      <td>33</td>\n",
       "      <td>805</td>\n",
       "      <td>40</td>\n",
       "      <td>4</td>\n",
       "      <td>91.5</td>\n",
       "      <td>1</td>\n",
       "      <td>0</td>\n",
       "      <td>1</td>\n",
       "    </tr>\n",
       "    <tr>\n",
       "      <th>-Alfredo Griffin</th>\n",
       "      <td>594</td>\n",
       "      <td>169</td>\n",
       "      <td>4</td>\n",
       "      <td>74</td>\n",
       "      <td>51</td>\n",
       "      <td>35</td>\n",
       "      <td>11</td>\n",
       "      <td>4408</td>\n",
       "      <td>1133</td>\n",
       "      <td>19</td>\n",
       "      <td>501</td>\n",
       "      <td>336</td>\n",
       "      <td>194</td>\n",
       "      <td>282</td>\n",
       "      <td>421</td>\n",
       "      <td>25</td>\n",
       "      <td>750.0</td>\n",
       "      <td>0</td>\n",
       "      <td>1</td>\n",
       "      <td>0</td>\n",
       "    </tr>\n",
       "  </tbody>\n",
       "</table>\n",
       "</div>"
      ],
      "text/plain": [
       "                   AtBat  Hits  HmRun  Runs  RBI  Walks  Years  CAtBat  CHits  \\\n",
       "-Alan Ashby          315    81      7    24   38     39     14    3449    835   \n",
       "-Alvin Davis         479   130     18    66   72     76      3    1624    457   \n",
       "-Andre Dawson        496   141     20    65   78     37     11    5628   1575   \n",
       "-Andres Galarraga    321    87     10    39   42     30      2     396    101   \n",
       "-Alfredo Griffin     594   169      4    74   51     35     11    4408   1133   \n",
       "\n",
       "                   CHmRun  CRuns  CRBI  CWalks  PutOuts  Assists  Errors  \\\n",
       "-Alan Ashby            69    321   414     375      632       43      10   \n",
       "-Alvin Davis           63    224   266     263      880       82      14   \n",
       "-Andre Dawson         225    828   838     354      200       11       3   \n",
       "-Andres Galarraga      12     48    46      33      805       40       4   \n",
       "-Alfredo Griffin       19    501   336     194      282      421      25   \n",
       "\n",
       "                   Salary  League_N  Division_W  NewLeague_N  \n",
       "-Alan Ashby         475.0         1           1            1  \n",
       "-Alvin Davis        480.0         0           1            0  \n",
       "-Andre Dawson       500.0         1           0            1  \n",
       "-Andres Galarraga    91.5         1           0            1  \n",
       "-Alfredo Griffin    750.0         0           1            0  "
      ]
     },
     "execution_count": 109,
     "metadata": {},
     "output_type": "execute_result"
    }
   ],
   "source": [
    "df = hitters.drop(['League', 'Division', 'NewLeague'], axis=1)\n",
    "df = pd.concat([df, dummies[['League_N', 'Division_W', 'NewLeague_N']]],axis=1)\n",
    "df.head()"
   ]
  },
  {
   "cell_type": "code",
   "execution_count": 110,
   "id": "b059de8d",
   "metadata": {},
   "outputs": [],
   "source": [
    "def best_subsets(dataframe, predictors, response, max_features):\n",
    "    \n",
    "    def process_linear_model(features):\n",
    "        X = sm.add_constant(dataframe[features])\n",
    "        y = dataframe[response]\n",
    "        \n",
    "        model = sm.OLS(y,X).fit()\n",
    "        RSS = model.ssr\n",
    "        \n",
    "        return (model, RSS)\n",
    "\n",
    "    def get_best_kth_model(k):\n",
    "        results = []\n",
    "        \n",
    "        for combo in combinations(predictors, k):\n",
    "            results.append(process_linear_model(list(combo)))\n",
    "\n",
    "        return sorted(results, key= itemgetter(1)).pop(0)[0]\n",
    "    \n",
    "    models =[]\n",
    "  \n",
    "    for k in tqdm(range(1,max_features+1)):\n",
    "        models.append(get_best_kth_model(k))\n",
    "    \n",
    "    return models"
   ]
  },
  {
   "cell_type": "code",
   "execution_count": 111,
   "id": "934b1c30",
   "metadata": {},
   "outputs": [
    {
     "name": "stderr",
     "output_type": "stream",
     "text": [
      "100%|████████████████████████████████████████████████████████████████████████████████████| 4/4 [00:16<00:00,  4.17s/it]\n"
     ]
    }
   ],
   "source": [
    "predictors = list(df.columns)\n",
    "predictors.remove('Salary')\n",
    "\n",
    "models = best_subsets(df, predictors, ['Salary'], max_features=4)"
   ]
  },
  {
   "cell_type": "code",
   "execution_count": 112,
   "id": "915b2d13",
   "metadata": {},
   "outputs": [
    {
     "data": {
      "text/plain": [
       "const   -47.955902\n",
       "Hits      3.300845\n",
       "CRBI      0.689899\n",
       "dtype: float64"
      ]
     },
     "execution_count": 112,
     "metadata": {},
     "output_type": "execute_result"
    }
   ],
   "source": [
    "models[1].params # example "
   ]
  },
  {
   "cell_type": "code",
   "execution_count": 113,
   "id": "8b1c0714",
   "metadata": {},
   "outputs": [
    {
     "data": {
      "image/png": "[encoded data removed]",
      "text/plain": [
       "<Figure size 1152x288 with 2 Axes>"
      ]
     },
     "metadata": {},
     "output_type": "display_data"
    }
   ],
   "source": [
    "aics = [models[x].aic for x in range(len(models))]\n",
    "bics = [models[x].bic for x in range(len(models))]\n",
    "r_adj = [models[x].rsquared_adj for x in range(len(models))]\n",
    "\n",
    "min_aic_index, min_aic = min(enumerate(aics), key=itemgetter(1))\n",
    "min_bic_index, min_bic = min(enumerate(bics), key=itemgetter(1))\n",
    "max_radj_index, max_radj = max(enumerate(r_adj), key=itemgetter(1))\n",
    "\n",
    "num_predictors = np.linspace(1,len(models),len(models))\n",
    "\n",
    "fig,(ax1, ax2) = plt.subplots(1,2,figsize=(16,4))\n",
    "\n",
    "ax1.plot(num_predictors, aics, 'r', marker='o', label='AIC');\n",
    "ax1.plot(num_predictors, bics, 'b', marker='o', label='BIC')\n",
    "\n",
    "ax1.plot(min_aic_index+1, min_aic, 'gx', markersize=20, markeredgewidth=1)\n",
    "ax1.plot(min_bic_index+1, min_bic, 'gx', markersize=20, markeredgewidth=1)\n",
    "\n",
    "ax1.set_xlabel('Number of Predictors');\n",
    "ax1.set_ylabel('Test MSE');\n",
    "ax1.legend(loc='best');\n",
    "\n",
    "ax2.plot(num_predictors, r_adj,'k', marker='o')\n",
    "ax2.plot(max_radj_index+1, max_radj, 'gx', markersize=20, markeredgewidth=1)\n",
    "ax2.set_xlabel('Number of Predictors');\n",
    "ax2.set_ylabel('Adjusted R**2');"
   ]
  },
  {
   "cell_type": "code",
   "execution_count": 114,
   "id": "0ebe3757",
   "metadata": {},
   "outputs": [
    {
     "data": {
      "text/plain": [
       "const          13.923104\n",
       "Hits            2.675798\n",
       "CRBI            0.681779\n",
       "PutOuts         0.273500\n",
       "Division_W   -139.953885\n",
       "dtype: float64"
      ]
     },
     "execution_count": 114,
     "metadata": {},
     "output_type": "execute_result"
    }
   ],
   "source": [
    "models[3].params"
   ]
  },
  {
   "cell_type": "code",
   "execution_count": 115,
   "id": "8f707e03",
   "metadata": {},
   "outputs": [],
   "source": [
    "def forward_step_select(df, predictors, response, max_features=len(predictors)):\n",
    "    \n",
    "    def process_linear_model(features):\n",
    "        X = sm.add_constant(df[features])\n",
    "        y = df[response]\n",
    "        \n",
    "        model = sm.OLS(y,X).fit()\n",
    "        RSS = model.ssr\n",
    "\n",
    "        return (model, RSS)\n",
    "    \n",
    "    def update_model(best_features, remaining_features):\n",
    "        results = []\n",
    "        \n",
    "        for feature in remaining_features:\n",
    "            results.append(process_linear_model(best_features + [feature]))\n",
    "            \n",
    "        new_model = sorted(results, key= itemgetter(1)).pop(0)[0]\n",
    "        new_features = list(new_model.params.index)[1:]\n",
    "        \n",
    "        return new_features, new_model\n",
    "    \n",
    "    models = []\n",
    "    best_features = []\n",
    "    remaining_features = predictors\n",
    "    \n",
    "    while remaining_features and len(best_features) < max_features:\n",
    "        \n",
    "        new_features, new_model = update_model(best_features, remaining_features)\n",
    "        \n",
    "        best_features = new_features\n",
    "        \n",
    "        remaining_features =  [feature for feature in predictors if feature not in best_features]\n",
    "        \n",
    "        models.append((new_features,new_model))\n",
    "        \n",
    "    return models"
   ]
  },
  {
   "cell_type": "code",
   "execution_count": 116,
   "id": "a918c717",
   "metadata": {},
   "outputs": [],
   "source": [
    "predictors = list(df.columns)\n",
    "predictors.remove('Salary')\n",
    "\n",
    "models = forward_step_select(df,predictors,['Salary'],max_features=19)"
   ]
  },
  {
   "cell_type": "code",
   "execution_count": 117,
   "id": "e83411e1",
   "metadata": {},
   "outputs": [
    {
     "data": {
      "image/png": "[encoded data removed]",
      "text/plain": [
       "<Figure size 1152x288 with 2 Axes>"
      ]
     },
     "metadata": {},
     "output_type": "display_data"
    }
   ],
   "source": [
    "aics = [models[x][1].aic for x in range(len(models))]\n",
    "bics = [models[x][1].bic for x in range(len(models))]\n",
    "r_adj = [models[x][1].rsquared_adj for x in range(len(models))]\n",
    "\n",
    "min_aic_index, min_aic = min(enumerate(aics), key=itemgetter(1))\n",
    "min_bic_index, min_bic = min(enumerate(bics), key=itemgetter(1))\n",
    "max_radj_index, max_radj = max(enumerate(r_adj), key=itemgetter(1))\n",
    "\n",
    "num_predictors = np.linspace(1,len(models),len(models))\n",
    "fig,(ax1, ax2) = plt.subplots(1,2,figsize=(16,4))\n",
    "ax1.plot(num_predictors, aics, 'r', marker='o', label='AIC');\n",
    "ax1.plot(num_predictors, bics, 'b', marker='o', label='BIC')\n",
    "\n",
    "ax1.plot(min_aic_index+1, min_aic, 'gx', markersize=20, markeredgewidth=1)\n",
    "ax1.plot(min_bic_index+1, min_bic, 'gx', markersize=20, markeredgewidth=1)\n",
    "\n",
    "ax1.set_xlabel('Number of Predictors');\n",
    "ax1.set_ylabel('Test MSE');\n",
    "ax1.legend(loc='best');\n",
    "\n",
    "ax2.plot(num_predictors, r_adj,'k', marker='o')\n",
    "ax2.plot(max_radj_index+1, max_radj, 'gx', markersize=20, markeredgewidth=1)\n",
    "ax2.set_xlabel('Number of Predictors');\n",
    "ax2.set_ylabel('Adjusted R**2');"
   ]
  },
  {
   "cell_type": "markdown",
   "id": "33ef6145",
   "metadata": {},
   "source": [
    "### validation"
   ]
  },
  {
   "cell_type": "code",
   "execution_count": 118,
   "id": "8974dbec",
   "metadata": {},
   "outputs": [],
   "source": [
    "np.random.seed(0)\n",
    "training = np.random.choice([True, False], size=len(df)) # len(df) = len(df.index)\n",
    "\n",
    "df_train = df[training]\n",
    "df_test = df[~training] # df_train + df_test = df "
   ]
  },
  {
   "cell_type": "code",
   "execution_count": 119,
   "id": "67d0c3bf",
   "metadata": {},
   "outputs": [
    {
     "name": "stderr",
     "output_type": "stream",
     "text": [
      "100%|████████████████████████████████████████████████████████████████████████████████████| 4/4 [00:16<00:00,  4.12s/it]\n"
     ]
    }
   ],
   "source": [
    "predictors = list(df_train.columns)\n",
    "predictors.remove('Salary')\n",
    "models = best_subsets(df_train, predictors, ['Salary'], max_features=4)"
   ]
  },
  {
   "cell_type": "code",
   "execution_count": 120,
   "id": "06f54592",
   "metadata": {},
   "outputs": [
    {
     "name": "stdout",
     "output_type": "stream",
     "text": [
      "MSEs = [197453.6869 174455.6938 171032.0227 157148.6279]\n"
     ]
    }
   ],
   "source": [
    "mses = np.array([])\n",
    "for model in models:\n",
    "    features = list(model.params.index[1:])\n",
    "    \n",
    "    X_test = sm.add_constant(df_test[features])\n",
    "    \n",
    "    salary_pred = model.predict(X_test)\n",
    "    \n",
    "    mses = np.append(mses, np.mean((salary_pred - df_test.Salary.values)**2))\n",
    "print('MSEs =', mses)"
   ]
  },
  {
   "cell_type": "code",
   "execution_count": 121,
   "id": "2b0bcc9c",
   "metadata": {},
   "outputs": [
    {
     "name": "stdout",
     "output_type": "stream",
     "text": [
      "3 157148.62790931837\n"
     ]
    }
   ],
   "source": [
    "min_index, min_mse = min(enumerate(mses), key=itemgetter(1))\n",
    "print(min_index, min_mse)"
   ]
  },
  {
   "cell_type": "code",
   "execution_count": 122,
   "id": "df38a4dc",
   "metadata": {},
   "outputs": [
    {
     "name": "stdout",
     "output_type": "stream",
     "text": [
      "4 Variable Model: ['const', 'Hits', 'CHmRun', 'CRuns', 'PutOuts']\n"
     ]
    }
   ],
   "source": [
    "print('4 Variable Model:', list(models[3].params.index))"
   ]
  },
  {
   "cell_type": "code",
   "execution_count": 123,
   "id": "4da32ae2",
   "metadata": {},
   "outputs": [
    {
     "data": {
      "image/png": "[encoded data removed]",
      "text/plain": [
       "<Figure size 576x288 with 1 Axes>"
      ]
     },
     "metadata": {},
     "output_type": "display_data"
    }
   ],
   "source": [
    "num_predictors = np.linspace(1,len(models),len(models))\n",
    "\n",
    "fig, ax1 = plt.subplots(figsize=(8,4));\n",
    "\n",
    "ax1.plot(num_predictors, mses, 'r', marker='o', label='MSE')\n",
    "ax1.plot(min_index+1, min_mse, 'gx', markersize=20, markeredgewidth=2)\n",
    "\n",
    "ax1.set_xlabel('Number of Predictors');\n",
    "ax1.set_ylabel('Validation MSE');\n",
    "ax1.legend(loc='best');"
   ]
  },
  {
   "cell_type": "code",
   "execution_count": 124,
   "id": "1581c75a",
   "metadata": {},
   "outputs": [
    {
     "name": "stderr",
     "output_type": "stream",
     "text": [
      "100%|████████████████████████████████████████████████████████████████████████████████████| 4/4 [00:18<00:00,  4.52s/it]"
     ]
    },
    {
     "name": "stdout",
     "output_type": "stream",
     "text": [
      "const          13.923104\n",
      "Hits            2.675798\n",
      "CRBI            0.681779\n",
      "PutOuts         0.273500\n",
      "Division_W   -139.953885\n",
      "dtype: float64\n"
     ]
    },
    {
     "name": "stderr",
     "output_type": "stream",
     "text": [
      "\n"
     ]
    }
   ],
   "source": [
    "predictors = list(df.columns)\n",
    "predictors.remove('Salary')\n",
    "models = best_subsets(df, predictors, ['Salary'], max_features=4)\n",
    "\n",
    "print(models[3].params)"
   ]
  },
  {
   "cell_type": "code",
   "execution_count": null,
   "id": "33b58c5e",
   "metadata": {},
   "outputs": [],
   "source": []
  }
 ],
 "metadata": {
  "kernelspec": {
   "display_name": "Python 3 (ipykernel)",
   "language": "python",
   "name": "python3"
  },
  "language_info": {
   "codemirror_mode": {
    "name": "ipython",
    "version": 3
   },
   "file_extension": ".py",
   "mimetype": "text/x-python",
   "name": "python",
   "nbconvert_exporter": "python",
   "pygments_lexer": "ipython3",
   "version": "3.9.1"
  }
 },
 "nbformat": 4,
 "nbformat_minor": 5
}
