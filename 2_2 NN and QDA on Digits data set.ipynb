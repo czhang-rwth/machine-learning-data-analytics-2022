{
 "cells": [
  {
   "cell_type": "markdown",
   "id": "de583a3e",
   "metadata": {},
   "source": [
    "### exercise 2 classification \n",
    "### nearest neighbor and QDA on the Digits data set "
   ]
  },
  {
   "cell_type": "code",
   "execution_count": 1,
   "id": "7c671642",
   "metadata": {},
   "outputs": [],
   "source": [
    "import matplotlib.pyplot as plt\n",
    "\n",
    "from sklearn import datasets, svm, metrics\n",
    "from sklearn.model_selection import train_test_split\n",
    "from sklearn.neighbors import KNeighborsClassifier\n",
    "from sklearn.discriminant_analysis import QuadraticDiscriminantAnalysis"
   ]
  },
  {
   "cell_type": "code",
   "execution_count": 2,
   "id": "4fa7218b",
   "metadata": {},
   "outputs": [
    {
     "name": "stdout",
     "output_type": "stream",
     "text": [
      "<class 'sklearn.utils.Bunch'>\n",
      "(1797, 8, 8)\n"
     ]
    }
   ],
   "source": [
    "digits = datasets.load_digits()\n",
    "print(type(digits))\n",
    "print(digits.images.shape)"
   ]
  },
  {
   "cell_type": "code",
   "execution_count": 3,
   "id": "dfc4397f",
   "metadata": {},
   "outputs": [
    {
     "data": {
      "image/png": "[encoded data removed]",
      "text/plain": [
       "<Figure size 576x288 with 4 Axes>"
      ]
     },
     "metadata": {
      "needs_background": "light"
     },
     "output_type": "display_data"
    }
   ],
   "source": [
    "figure = plt.figure(figsize=(8, 4))\n",
    "\n",
    "images_and_labels = list(zip(digits.images, digits.target))\n",
    "\n",
    "i = 1\n",
    "\n",
    "for (image, label) in images_and_labels[:4]:\n",
    "    ax = plt.subplot(1, 4, i)\n",
    "    ax.set_axis_off()\n",
    "    ax.imshow(image, cmap=plt.cm.gray_r)\n",
    "    ax.set_title('Training: %i' % label)\n",
    "    i+=1"
   ]
  },
  {
   "cell_type": "code",
   "execution_count": 4,
   "id": "05866046",
   "metadata": {},
   "outputs": [
    {
     "name": "stdout",
     "output_type": "stream",
     "text": [
      "(1797, 64)\n"
     ]
    }
   ],
   "source": [
    "n_samples = len(digits.images)\n",
    "data = digits.images.reshape((n_samples, -1))\n",
    "print(data.shape)"
   ]
  },
  {
   "cell_type": "code",
   "execution_count": 5,
   "id": "2ddc433f",
   "metadata": {},
   "outputs": [],
   "source": [
    "classifier=KNeighborsClassifier(3)\n",
    "#classifier=QuadraticDiscriminantAnalysis()"
   ]
  },
  {
   "cell_type": "code",
   "execution_count": 6,
   "id": "f36128da",
   "metadata": {},
   "outputs": [],
   "source": [
    "X_train, X_test, y_train, y_test = train_test_split(data, digits.target, test_size=0.5, shuffle=False)"
   ]
  },
  {
   "cell_type": "code",
   "execution_count": 7,
   "id": "b4975067",
   "metadata": {},
   "outputs": [
    {
     "data": {
      "text/plain": [
       "KNeighborsClassifier(n_neighbors=3)"
      ]
     },
     "execution_count": 7,
     "metadata": {},
     "output_type": "execute_result"
    }
   ],
   "source": [
    "classifier.fit(X_train, y_train)"
   ]
  },
  {
   "cell_type": "code",
   "execution_count": 8,
   "id": "cc1d152d",
   "metadata": {},
   "outputs": [],
   "source": [
    "predicted = classifier.predict(X_test)"
   ]
  },
  {
   "cell_type": "code",
   "execution_count": 9,
   "id": "c91ffd08",
   "metadata": {},
   "outputs": [
    {
     "data": {
      "image/png": "[encoded data removed]",
      "text/plain": [
       "<Figure size 576x288 with 4 Axes>"
      ]
     },
     "metadata": {
      "needs_background": "light"
     },
     "output_type": "display_data"
    }
   ],
   "source": [
    "figure = plt.figure(figsize=(8, 4))\n",
    "\n",
    "i = 1\n",
    "images_and_predictions = list(zip(digits.images[n_samples // 2:], predicted)) # // nach unten \n",
    "for (image, prediction) in images_and_predictions[:4]:\n",
    "    ax = plt.subplot(1, 4, i)\n",
    "    ax.set_axis_off()\n",
    "    ax.imshow(image, cmap=plt.cm.gray_r)\n",
    "    ax.set_title('Prediction: %i' % prediction)\n",
    "    i+=1"
   ]
  },
  {
   "cell_type": "code",
   "execution_count": 10,
   "id": "1e01ed45",
   "metadata": {},
   "outputs": [
    {
     "name": "stdout",
     "output_type": "stream",
     "text": [
      "Classification report for classifier KNeighborsClassifier(n_neighbors=3):\n",
      "              precision    recall  f1-score   support\n",
      "\n",
      "           0       0.99      0.99      0.99        88\n",
      "           1       0.98      0.99      0.98        91\n",
      "           2       0.99      0.94      0.96        86\n",
      "           3       0.91      0.92      0.92        91\n",
      "           4       0.99      0.93      0.96        92\n",
      "           5       0.97      0.97      0.97        91\n",
      "           6       0.99      1.00      0.99        91\n",
      "           7       0.98      1.00      0.99        89\n",
      "           8       0.94      0.95      0.95        88\n",
      "           9       0.91      0.93      0.92        92\n",
      "\n",
      "    accuracy                           0.96       899\n",
      "   macro avg       0.96      0.96      0.96       899\n",
      "weighted avg       0.96      0.96      0.96       899\n",
      "\n",
      "\n"
     ]
    }
   ],
   "source": [
    "print(\"Classification report for classifier %s:\\n%s\\n\"\n",
    "      % (classifier, metrics.classification_report(y_test, predicted)))\n",
    "\n",
    "# Precision: Positive predictive value (#True positive predictions / #True positive predictions + #False positive predictions)\n",
    " \n",
    "# Recall: True positive rate (#true positive predictions / #True positive predictions + #False negative predictions)\n",
    "\n",
    "# F1-score: 2/ ( 1/recall + 1/precision)\n",
    "\n",
    "# Support: how many times tha number is in the data set"
   ]
  },
  {
   "cell_type": "code",
   "execution_count": 11,
   "id": "3cf8a178",
   "metadata": {},
   "outputs": [
    {
     "name": "stderr",
     "output_type": "stream",
     "text": [
      "C:\\Users\\Chijun Zhang\\AppData\\Local\\Programs\\Python\\Python39\\lib\\site-packages\\sklearn\\utils\\deprecation.py:87: FutureWarning: Function plot_confusion_matrix is deprecated; Function `plot_confusion_matrix` is deprecated in 1.0 and will be removed in 1.2. Use one of the class methods: ConfusionMatrixDisplay.from_predictions or ConfusionMatrixDisplay.from_estimator.\n",
      "  warnings.warn(msg, category=FutureWarning)\n"
     ]
    },
    {
     "data": {
      "image/png": "[encoded data removed]",
      "text/plain": [
       "<Figure size 432x288 with 2 Axes>"
      ]
     },
     "metadata": {
      "needs_background": "light"
     },
     "output_type": "display_data"
    }
   ],
   "source": [
    "disp = metrics.plot_confusion_matrix(classifier, X_test, y_test)"
   ]
  },
  {
   "cell_type": "code",
   "execution_count": 12,
   "id": "4710d6ef",
   "metadata": {},
   "outputs": [
    {
     "name": "stdout",
     "output_type": "stream",
     "text": [
      "Confusion matrix:\n",
      "[[87  0  0  0  1  0  0  0  0  0]\n",
      " [ 0 90  0  0  0  0  0  0  1  0]\n",
      " [ 1  0 81  4  0  0  0  0  0  0]\n",
      " [ 0  0  0 84  0  1  0  2  3  1]\n",
      " [ 0  0  0  0 86  0  0  0  0  6]\n",
      " [ 0  0  0  0  0 88  1  0  0  2]\n",
      " [ 0  0  0  0  0  0 91  0  0  0]\n",
      " [ 0  0  0  0  0  0  0 89  0  0]\n",
      " [ 0  2  1  1  0  0  0  0 84  0]\n",
      " [ 0  0  0  3  0  2  0  0  1 86]]\n"
     ]
    }
   ],
   "source": [
    "print(\"Confusion matrix:\\n%s\" % disp.confusion_matrix)"
   ]
  },
  {
   "cell_type": "code",
   "execution_count": null,
   "id": "9c0c6988",
   "metadata": {},
   "outputs": [],
   "source": []
  }
 ],
 "metadata": {
  "kernelspec": {
   "display_name": "Python 3 (ipykernel)",
   "language": "python",
   "name": "python3"
  },
  "language_info": {
   "codemirror_mode": {
    "name": "ipython",
    "version": 3
   },
   "file_extension": ".py",
   "mimetype": "text/x-python",
   "name": "python",
   "nbconvert_exporter": "python",
   "pygments_lexer": "ipython3",
   "version": "3.9.1"
  }
 },
 "nbformat": 4,
 "nbformat_minor": 5
}
