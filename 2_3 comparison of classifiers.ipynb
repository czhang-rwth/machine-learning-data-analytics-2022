{
 "cells": [
  {
   "cell_type": "markdown",
   "id": "01594191",
   "metadata": {},
   "source": [
    "### exercise 2 classification \n",
    "### comparison of classifiers "
   ]
  },
  {
   "cell_type": "code",
   "execution_count": 1,
   "id": "d0cbab92",
   "metadata": {},
   "outputs": [],
   "source": [
    "import numpy as np\n",
    "import pandas as pd\n",
    "import statsmodels.api as sm\n",
    "import statsmodels.formula.api as smf\n",
    "\n",
    "from matplotlib import pyplot as plt\n",
    "from sklearn.discriminant_analysis import LinearDiscriminantAnalysis as LDA\n",
    "from sklearn.discriminant_analysis import QuadraticDiscriminantAnalysis as QDA\n",
    "from sklearn.neighbors import KNeighborsClassifier\n",
    "from sklearn.preprocessing import scale\n",
    "\n",
    "%matplotlib inline\n",
    "plt.style.use('ggplot') # emulate pretty r-style plots\n",
    "\n",
    "np.set_printoptions(precision=4) #print numpy arrays with precision 4"
   ]
  },
  {
   "cell_type": "code",
   "execution_count": 2,
   "id": "ed7c8967",
   "metadata": {},
   "outputs": [
    {
     "name": "stdout",
     "output_type": "stream",
     "text": [
      "Weekly dataframe shape = (1089, 9)\n"
     ]
    },
    {
     "data": {
      "text/html": [
       "<div>\n",
       "<style scoped>\n",
       "    .dataframe tbody tr th:only-of-type {\n",
       "        vertical-align: middle;\n",
       "    }\n",
       "\n",
       "    .dataframe tbody tr th {\n",
       "        vertical-align: top;\n",
       "    }\n",
       "\n",
       "    .dataframe thead th {\n",
       "        text-align: right;\n",
       "    }\n",
       "</style>\n",
       "<table border=\"1\" class=\"dataframe\">\n",
       "  <thead>\n",
       "    <tr style=\"text-align: right;\">\n",
       "      <th></th>\n",
       "      <th>Year</th>\n",
       "      <th>Lag1</th>\n",
       "      <th>Lag2</th>\n",
       "      <th>Lag3</th>\n",
       "      <th>Lag4</th>\n",
       "      <th>Lag5</th>\n",
       "      <th>Volume</th>\n",
       "      <th>Today</th>\n",
       "      <th>Direction</th>\n",
       "    </tr>\n",
       "  </thead>\n",
       "  <tbody>\n",
       "    <tr>\n",
       "      <th>0</th>\n",
       "      <td>1990</td>\n",
       "      <td>0.816</td>\n",
       "      <td>1.572</td>\n",
       "      <td>-3.936</td>\n",
       "      <td>-0.229</td>\n",
       "      <td>-3.484</td>\n",
       "      <td>0.154976</td>\n",
       "      <td>-0.270</td>\n",
       "      <td>Down</td>\n",
       "    </tr>\n",
       "    <tr>\n",
       "      <th>1</th>\n",
       "      <td>1990</td>\n",
       "      <td>-0.270</td>\n",
       "      <td>0.816</td>\n",
       "      <td>1.572</td>\n",
       "      <td>-3.936</td>\n",
       "      <td>-0.229</td>\n",
       "      <td>0.148574</td>\n",
       "      <td>-2.576</td>\n",
       "      <td>Down</td>\n",
       "    </tr>\n",
       "    <tr>\n",
       "      <th>2</th>\n",
       "      <td>1990</td>\n",
       "      <td>-2.576</td>\n",
       "      <td>-0.270</td>\n",
       "      <td>0.816</td>\n",
       "      <td>1.572</td>\n",
       "      <td>-3.936</td>\n",
       "      <td>0.159837</td>\n",
       "      <td>3.514</td>\n",
       "      <td>Up</td>\n",
       "    </tr>\n",
       "    <tr>\n",
       "      <th>3</th>\n",
       "      <td>1990</td>\n",
       "      <td>3.514</td>\n",
       "      <td>-2.576</td>\n",
       "      <td>-0.270</td>\n",
       "      <td>0.816</td>\n",
       "      <td>1.572</td>\n",
       "      <td>0.161630</td>\n",
       "      <td>0.712</td>\n",
       "      <td>Up</td>\n",
       "    </tr>\n",
       "    <tr>\n",
       "      <th>4</th>\n",
       "      <td>1990</td>\n",
       "      <td>0.712</td>\n",
       "      <td>3.514</td>\n",
       "      <td>-2.576</td>\n",
       "      <td>-0.270</td>\n",
       "      <td>0.816</td>\n",
       "      <td>0.153728</td>\n",
       "      <td>1.178</td>\n",
       "      <td>Up</td>\n",
       "    </tr>\n",
       "  </tbody>\n",
       "</table>\n",
       "</div>"
      ],
      "text/plain": [
       "   Year   Lag1   Lag2   Lag3   Lag4   Lag5    Volume  Today Direction\n",
       "0  1990  0.816  1.572 -3.936 -0.229 -3.484  0.154976 -0.270      Down\n",
       "1  1990 -0.270  0.816  1.572 -3.936 -0.229  0.148574 -2.576      Down\n",
       "2  1990 -2.576 -0.270  0.816  1.572 -3.936  0.159837  3.514        Up\n",
       "3  1990  3.514 -2.576 -0.270  0.816  1.572  0.161630  0.712        Up\n",
       "4  1990  0.712  3.514 -2.576 -0.270  0.816  0.153728  1.178        Up"
      ]
     },
     "execution_count": 2,
     "metadata": {},
     "output_type": "execute_result"
    }
   ],
   "source": [
    "df = pd.read_csv('./datasets/Weekly.csv')\n",
    "#df = pd.read_csv('./datasets/Weekly.csv', index_col=0)\n",
    "print('Weekly dataframe shape =', df.shape)\n",
    "df.head()"
   ]
  },
  {
   "cell_type": "code",
   "execution_count": 3,
   "id": "0ece31a6",
   "metadata": {},
   "outputs": [
    {
     "name": "stdout",
     "output_type": "stream",
     "text": [
      "            Year      Lag1      Lag2      Lag3      Lag4      Lag5    Volume  \\\n",
      "Year    1.000000 -0.032289 -0.033390 -0.030006 -0.031128 -0.030519  0.841942   \n",
      "Lag1   -0.032289  1.000000 -0.074853  0.058636 -0.071274 -0.008183 -0.064951   \n",
      "Lag2   -0.033390 -0.074853  1.000000 -0.075721  0.058382 -0.072499 -0.085513   \n",
      "Lag3   -0.030006  0.058636 -0.075721  1.000000 -0.075396  0.060657 -0.069288   \n",
      "Lag4   -0.031128 -0.071274  0.058382 -0.075396  1.000000 -0.075675 -0.061075   \n",
      "Lag5   -0.030519 -0.008183 -0.072499  0.060657 -0.075675  1.000000 -0.058517   \n",
      "Volume  0.841942 -0.064951 -0.085513 -0.069288 -0.061075 -0.058517  1.000000   \n",
      "Today  -0.032460 -0.075032  0.059167 -0.071244 -0.007826  0.011013 -0.033078   \n",
      "\n",
      "           Today  \n",
      "Year   -0.032460  \n",
      "Lag1   -0.075032  \n",
      "Lag2    0.059167  \n",
      "Lag3   -0.071244  \n",
      "Lag4   -0.007826  \n",
      "Lag5    0.011013  \n",
      "Volume -0.033078  \n",
      "Today   1.000000  \n"
     ]
    }
   ],
   "source": [
    "correlations = df.corr(method='pearson')\n",
    "print(correlations)"
   ]
  },
  {
   "cell_type": "code",
   "execution_count": 4,
   "id": "e1671d64",
   "metadata": {},
   "outputs": [
    {
     "data": {
      "image/png": "[encoded data removed]",
      "text/plain": [
       "<Figure size 1296x288 with 3 Axes>"
      ]
     },
     "metadata": {},
     "output_type": "display_data"
    }
   ],
   "source": [
    "fig, (ax1,ax2,ax3) = plt.subplots(1,3,figsize=(18,4));\n",
    "\n",
    "#plot years vs volumes\n",
    "ax1.scatter(df.Year.values,df.Volume.values, facecolors='none', edgecolors='b');\n",
    "ax1.set_xlabel('Year');\n",
    "ax1.set_ylabel('Volume in Billions');\n",
    "\n",
    "# Plot Lag1 vs Today's return\n",
    "ax2.scatter(df.Lag1.values, df.Today.values, facecolors='none', edgecolors='b' );\n",
    "ax2.set_xlabel('Lag1 Percent Return');\n",
    "ax2.set_ylabel('Today\\'s Percent Return');\n",
    "\n",
    "# Plot Lag1 vs Today's return\n",
    "ax3.scatter(df.Lag2.values, df.Today.values, facecolors='none', edgecolors='b' );\n",
    "ax3.set_xlabel('Lag2 Percent Return');\n",
    "ax3.set_ylabel('Today\\'s Percent Return');"
   ]
  },
  {
   "cell_type": "code",
   "execution_count": 5,
   "id": "5b9f8ada",
   "metadata": {},
   "outputs": [
    {
     "name": "stdout",
     "output_type": "stream",
     "text": [
      "Optimization terminated successfully.\n",
      "         Current function value: 0.682441\n",
      "         Iterations 4\n",
      "                           Logit Regression Results                           \n",
      "==============================================================================\n",
      "Dep. Variable:                      y   No. Observations:                 1089\n",
      "Model:                          Logit   Df Residuals:                     1082\n",
      "Method:                           MLE   Df Model:                            6\n",
      "Date:                Mon, 20 Jun 2022   Pseudo R-squ.:                0.006580\n",
      "Time:                        21:30:27   Log-Likelihood:                -743.18\n",
      "converged:                       True   LL-Null:                       -748.10\n",
      "Covariance Type:            nonrobust   LLR p-value:                    0.1313\n",
      "==============================================================================\n",
      "                 coef    std err          z      P>|z|      [0.025      0.975]\n",
      "------------------------------------------------------------------------------\n",
      "const          0.2669      0.086      3.106      0.002       0.098       0.435\n",
      "Lag1          -0.0413      0.026     -1.563      0.118      -0.093       0.010\n",
      "Lag2           0.0584      0.027      2.175      0.030       0.006       0.111\n",
      "Lag3          -0.0161      0.027     -0.602      0.547      -0.068       0.036\n",
      "Lag4          -0.0278      0.026     -1.050      0.294      -0.080       0.024\n",
      "Lag5          -0.0145      0.026     -0.549      0.583      -0.066       0.037\n",
      "Volume        -0.0227      0.037     -0.616      0.538      -0.095       0.050\n",
      "==============================================================================\n"
     ]
    }
   ],
   "source": [
    "X = sm.add_constant(df[df.columns[1:7]])\n",
    "y = np.array([1 if direction=='Up' else 0 for direction in df.Direction.values])\n",
    "\n",
    "logit = sm.Logit(y,X)\n",
    "results=logit.fit()\n",
    "print(results.summary())"
   ]
  },
  {
   "cell_type": "code",
   "execution_count": 6,
   "id": "35d2e631",
   "metadata": {},
   "outputs": [
    {
     "name": "stdout",
     "output_type": "stream",
     "text": [
      "[[ 54.  48.]\n",
      " [430. 557.]]\n",
      "CONFUSION MATRIX\n",
      "       Down     Up\n",
      "Down   54.0   48.0\n",
      "Up    430.0  557.0\n",
      "\n",
      "\n",
      "Error Rate = 0.43893480257116624\n"
     ]
    }
   ],
   "source": [
    "y_predicted = results.predict(X)\n",
    "y_predicted= np.array(y_predicted > 0.5, dtype=float) # whether y_predicted > 0.5 \n",
    "\n",
    "table = np.histogram2d(y_predicted, y, bins=2)[0] # without [0] it will show bin \n",
    "print(table)\n",
    "\n",
    "print('CONFUSION MATRIX')\n",
    "print(pd.DataFrame(table, ['Down', 'Up'], ['Down', 'Up']))\n",
    "print('\\n')\n",
    "print('Error Rate =', 1-(table[0,0]+table[1,1])/np.sum(table)) # number of wrong predictions divided by all predictions"
   ]
  },
  {
   "cell_type": "code",
   "execution_count": 7,
   "id": "3ff3b664",
   "metadata": {},
   "outputs": [
    {
     "name": "stdout",
     "output_type": "stream",
     "text": [
      "Optimization terminated successfully.\n",
      "         Current function value: 0.685555\n",
      "         Iterations 4\n",
      "                           Logit Regression Results                           \n",
      "==============================================================================\n",
      "Dep. Variable:                      y   No. Observations:                  985\n",
      "Model:                          Logit   Df Residuals:                      983\n",
      "Method:                           MLE   Df Model:                            1\n",
      "Date:                Mon, 20 Jun 2022   Pseudo R-squ.:                0.003076\n",
      "Time:                        21:30:27   Log-Likelihood:                -675.27\n",
      "converged:                       True   LL-Null:                       -677.35\n",
      "Covariance Type:            nonrobust   LLR p-value:                   0.04123\n",
      "==============================================================================\n",
      "                 coef    std err          z      P>|z|      [0.025      0.975]\n",
      "------------------------------------------------------------------------------\n",
      "const          0.2033      0.064      3.162      0.002       0.077       0.329\n",
      "Lag2           0.0581      0.029      2.024      0.043       0.002       0.114\n",
      "==============================================================================\n",
      "\n",
      "\n",
      "CONFUSION MATRIX\n",
      "      Down    Up\n",
      "Down   9.0   5.0\n",
      "Up    34.0  56.0\n",
      "\n",
      "\n",
      "Error Rate = 0.375\n"
     ]
    }
   ],
   "source": [
    "X_train = sm.add_constant(df[df.Year <= 2008].Lag2)\n",
    "response_train = df[df.Year <= 2008].Direction\n",
    "y_train = np.array([1 if el=='Up' else 0 for el in response_train])\n",
    "\n",
    "X_test = sm.add_constant(df[df.Year > 2008].Lag2)\n",
    "response_test = df[df.Year > 2008].Direction\n",
    "y_test = np.array([1 if el=='Up' else 0 for el in response_test])\n",
    "\n",
    "logit = sm.Logit(y_train, X_train)\n",
    "results = logit.fit()\n",
    "print(results.summary())\n",
    "print('\\n')\n",
    "\n",
    "y_predicted = results.predict(X_test)\n",
    "y_predicted= np.array(y_predicted > 0.5, dtype=float)\n",
    "\n",
    "table = np.histogram2d(y_predicted, y_test, bins=2)[0]\n",
    "print('CONFUSION MATRIX')\n",
    "print(pd.DataFrame(table, ['Down', 'Up'], ['Down', 'Up']))\n",
    "print('\\n')\n",
    "print('Error Rate =', 1-(table[0,0]+table[1,1])/np.sum(table))"
   ]
  },
  {
   "cell_type": "code",
   "execution_count": 8,
   "id": "d7055feb",
   "metadata": {},
   "outputs": [
    {
     "name": "stdout",
     "output_type": "stream",
     "text": [
      "Priors =  [0.4477 0.5523]\n",
      "Class Means =  [-0.0357] [0.2604]\n",
      "Variance =  [[5.1218]]\n",
      "\n",
      "\n",
      "CONFUSION MATRIX\n",
      "      Down    Up\n",
      "Down   9.0   5.0\n",
      "Up    34.0  56.0\n",
      "\n",
      "\n",
      "Error Rate = 0.375\n"
     ]
    }
   ],
   "source": [
    "clf = LDA(solver='lsqr', store_covariance=True)\n",
    "X_train = df[df.Year <= 2008].Lag2.values\n",
    "X_train = X_train.reshape((len(X_train),1))\n",
    "\n",
    "X_test = df[df.Year > 2008].Lag2.values\n",
    "X_test = X_test.reshape((len(X_test),1))\n",
    "\n",
    "clf.fit(X_train, y_train)\n",
    "print('Priors = ', clf.priors_ )\n",
    "print('Class Means = ', clf.means_[0], clf.means_[1])\n",
    "print('Variance = ', clf.covariance_)\n",
    "print('\\n')\n",
    "\n",
    "y_predicted = clf.predict(X_test)\n",
    "y_predicted= np.array(y_predicted > 0.5, dtype=float)\n",
    "\n",
    "table = np.histogram2d(y_predicted, y_test, bins=2)[0]\n",
    "print('CONFUSION MATRIX')\n",
    "print(pd.DataFrame(table, ['Down', 'Up'], ['Down', 'Up']))\n",
    "print('\\n')\n",
    "print('Error Rate =', 1-(table[0,0]+table[1,1])/np.sum(table))"
   ]
  },
  {
   "cell_type": "code",
   "execution_count": 9,
   "id": "f32686c0",
   "metadata": {},
   "outputs": [
    {
     "name": "stdout",
     "output_type": "stream",
     "text": [
      "Priors =  [0.4477 0.5523]\n",
      "Class Means =  [-0.0357] [0.2604]\n",
      "Covariances =  [array([[4.8378]]), array([[5.3707]])]\n",
      "\n",
      "\n",
      "CONFUSION MATRIX\n",
      "      Down    Up\n",
      "Down   0.0   0.0\n",
      "Up    43.0  61.0\n",
      "\n",
      "\n",
      "Error Rate = 0.41346153846153844\n"
     ]
    }
   ],
   "source": [
    "qclf = QDA(store_covariance=True)\n",
    "qclf.fit(X_train,y_train)\n",
    "\n",
    "print('Priors = ', qclf.priors_ )\n",
    "print('Class Means = ', qclf.means_[0], qclf.means_[1])\n",
    "print('Covariances = ', qclf.covariance_)\n",
    "print('\\n')\n",
    "\n",
    "y_predict = qclf.predict(X_test)\n",
    "y_predicted= np.array(y_predict > 0.5, dtype=float)\n",
    "\n",
    "table = np.histogram2d(y_predict, y_test, bins=2)[0]\n",
    "print('CONFUSION MATRIX')\n",
    "print(pd.DataFrame(table, ['Down', 'Up'], ['Down', 'Up']))\n",
    "print('\\n')\n",
    "print('Error Rate =', 1-(table[0,0]+table[1,1])/np.sum(table))"
   ]
  },
  {
   "cell_type": "code",
   "execution_count": 10,
   "id": "58799691",
   "metadata": {},
   "outputs": [
    {
     "name": "stdout",
     "output_type": "stream",
     "text": [
      "      Down    Up\n",
      "Down  22.0  30.0\n",
      "Up    21.0  31.0\n",
      "\n",
      "Error Rate = 0.4903846153846154\n"
     ]
    }
   ],
   "source": [
    "clf = KNeighborsClassifier(n_neighbors=1)\n",
    "clf.fit(X_train, y_train)\n",
    "\n",
    "y_predicted = clf.predict(X_test)\n",
    "\n",
    "table = np.histogram2d(y_predicted, y_test , bins=2)[0]\n",
    "print(pd.DataFrame(table, ['Down', 'Up'], ['Down', 'Up']))\n",
    "print('')\n",
    "print('Error Rate =', 1-(table[0,0]+table[1,1])/np.sum(table))"
   ]
  },
  {
   "cell_type": "code",
   "execution_count": 11,
   "id": "d5341bf6",
   "metadata": {},
   "outputs": [
    {
     "name": "stdout",
     "output_type": "stream",
     "text": [
      "      Down    Up\n",
      "Down  23.0  22.0\n",
      "Up    20.0  39.0\n",
      "\n",
      "Error Rate = 0.40384615384615385\n"
     ]
    }
   ],
   "source": [
    "clf = KNeighborsClassifier(n_neighbors=20)\n",
    "clf.fit(X_train, y_train)\n",
    "\n",
    "y_predicted = clf.predict(X_test)\n",
    "\n",
    "table = np.histogram2d(y_predicted, y_test , bins=2)[0]\n",
    "print(pd.DataFrame(table, ['Down', 'Up'], ['Down', 'Up']))\n",
    "print('')\n",
    "print('Error Rate =', 1-(table[0,0]+table[1,1])/np.sum(table))"
   ]
  },
  {
   "cell_type": "code",
   "execution_count": 12,
   "id": "b0232874",
   "metadata": {},
   "outputs": [
    {
     "name": "stdout",
     "output_type": "stream",
     "text": [
      "Optimization terminated successfully.\n",
      "         Current function value: 0.683687\n",
      "         Iterations 4\n",
      "                           Logit Regression Results                           \n",
      "==============================================================================\n",
      "Dep. Variable:                      y   No. Observations:                  985\n",
      "Model:                          Logit   Df Residuals:                      981\n",
      "Method:                           MLE   Df Model:                            3\n",
      "Date:                Mon, 20 Jun 2022   Pseudo R-squ.:                0.005792\n",
      "Time:                        21:30:27   Log-Likelihood:                -673.43\n",
      "converged:                       True   LL-Null:                       -677.35\n",
      "Covariance Type:            nonrobust   LLR p-value:                   0.04928\n",
      "==============================================================================\n",
      "                 coef    std err          z      P>|z|      [0.025      0.975]\n",
      "------------------------------------------------------------------------------\n",
      "const          0.2123      0.065      3.282      0.001       0.086       0.339\n",
      "Lag1          -0.0537      0.029     -1.856      0.063      -0.110       0.003\n",
      "Lag2           0.0531      0.029      1.823      0.068      -0.004       0.110\n",
      "Lag3          -0.0089      0.029     -0.308      0.758      -0.065       0.048\n",
      "==============================================================================\n",
      "\n",
      "\n",
      "CONFUSION MATRIX\n",
      "      Down    Up\n",
      "Down   8.0   9.0\n",
      "Up    35.0  52.0\n",
      "\n",
      "\n",
      "Error Rate = 0.42307692307692313\n"
     ]
    }
   ],
   "source": [
    "predictors = df.columns[1:4]\n",
    "X_train = sm.add_constant(df[df.Year <= 2008][predictors])\n",
    "response_train = df[df.Year <= 2008].Direction\n",
    "y_train = np.array([1 if el=='Up' else 0 for el in response_train])\n",
    "\n",
    "X_test = sm.add_constant(df[df.Year > 2008][predictors])\n",
    "response_test = df[df.Year > 2008].Direction\n",
    "y_test = np.array([1 if el=='Up' else 0 for el in response_test])\n",
    "\n",
    "logit = sm.Logit(y_train, X_train)\n",
    "results = logit.fit()\n",
    "print(results.summary())\n",
    "print('\\n')\n",
    "\n",
    "y_predicted = results.predict(X_test)\n",
    "y_predicted= np.array(y_predicted > 0.5, dtype=float)\n",
    "\n",
    "table = np.histogram2d(y_predicted, y_test, bins=2)[0]\n",
    "print('CONFUSION MATRIX')\n",
    "print(pd.DataFrame(table, ['Down', 'Up'], ['Down', 'Up']))\n",
    "print('\\n')\n",
    "print('Error Rate =', 1-(table[0,0]+table[1,1])/np.sum(table))"
   ]
  },
  {
   "cell_type": "code",
   "execution_count": 13,
   "id": "b6b9634b",
   "metadata": {},
   "outputs": [
    {
     "name": "stdout",
     "output_type": "stream",
     "text": [
      "Optimization terminated successfully.\n",
      "         Current function value: 0.683701\n",
      "         Iterations 4\n",
      "                           Logit Regression Results                           \n",
      "==============================================================================\n",
      "Dep. Variable:                      y   No. Observations:                  985\n",
      "Model:                          Logit   Df Residuals:                      981\n",
      "Method:                           MLE   Df Model:                            3\n",
      "Date:                Mon, 20 Jun 2022   Pseudo R-squ.:                0.005772\n",
      "Time:                        21:30:28   Log-Likelihood:                -673.45\n",
      "converged:                       True   LL-Null:                       -677.35\n",
      "Covariance Type:            nonrobust   LLR p-value:                   0.04990\n",
      "==============================================================================\n",
      "                 coef    std err          z      P>|z|      [0.025      0.975]\n",
      "------------------------------------------------------------------------------\n",
      "const          0.2114      0.065      3.273      0.001       0.085       0.338\n",
      "Lag1          -0.0515      0.031     -1.676      0.094      -0.112       0.009\n",
      "Lag2           0.0535      0.029      1.832      0.067      -0.004       0.111\n",
      "Lag1xLag2      0.0019      0.007      0.257      0.797      -0.013       0.017\n",
      "==============================================================================\n",
      "\n",
      "\n",
      "CONFUSION MATRIX\n",
      "      Down    Up\n",
      "Down   7.0   8.0\n",
      "Up    36.0  53.0\n",
      "\n",
      "\n",
      "Error Rate = 0.42307692307692313\n"
     ]
    }
   ],
   "source": [
    "df['Lag1xLag2'] = pd.Series(df.Lag1*df.Lag2, index=df.index)\n",
    "predictors = ['Lag1', 'Lag2', 'Lag1xLag2']\n",
    "\n",
    "X_train = sm.add_constant(df[df.Year <= 2008][predictors])\n",
    "response_train = df[df.Year <= 2008].Direction\n",
    "y_train = np.array([1 if el=='Up' else 0 for el in response_train])\n",
    "\n",
    "X_test = sm.add_constant(df[df.Year > 2008][predictors])\n",
    "response_test = df[df.Year > 2008].Direction\n",
    "y_test = np.array([1 if el=='Up' else 0 for el in response_test])\n",
    "\n",
    "logit = sm.Logit(y_train, X_train)\n",
    "results = logit.fit()\n",
    "print(results.summary())\n",
    "print('\\n')\n",
    "\n",
    "y_predicted = results.predict(X_test)\n",
    "y_predicted= np.array(y_predicted > 0.5, dtype=float)\n",
    "\n",
    "table = np.histogram2d(y_predicted, y_test, bins=2)[0]\n",
    "print('CONFUSION MATRIX')\n",
    "print(pd.DataFrame(table, ['Down', 'Up'], ['Down', 'Up']))\n",
    "print('\\n')\n",
    "print('Error Rate =', 1-(table[0,0]+table[1,1])/np.sum(table))"
   ]
  },
  {
   "cell_type": "code",
   "execution_count": null,
   "id": "d5db2eb6",
   "metadata": {},
   "outputs": [],
   "source": []
  }
 ],
 "metadata": {
  "kernelspec": {
   "display_name": "Python 3 (ipykernel)",
   "language": "python",
   "name": "python3"
  },
  "language_info": {
   "codemirror_mode": {
    "name": "ipython",
    "version": 3
   },
   "file_extension": ".py",
   "mimetype": "text/x-python",
   "name": "python",
   "nbconvert_exporter": "python",
   "pygments_lexer": "ipython3",
   "version": "3.9.1"
  }
 },
 "nbformat": 4,
 "nbformat_minor": 5
}
